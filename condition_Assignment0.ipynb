{
  "nbformat": 4,
  "nbformat_minor": 0,
  "metadata": {
    "colab": {
      "provenance": []
    },
    "kernelspec": {
      "name": "python3",
      "display_name": "Python 3"
    },
    "language_info": {
      "name": "python"
    }
  },
  "cells": [
    {
      "cell_type": "code",
      "execution_count": null,
      "metadata": {
        "id": "N0eFcmVZSyZY"
      },
      "outputs": [],
      "source": []
    },
    {
      "cell_type": "markdown",
      "source": [
        "Q1. What are conditional statements? Explain conditional statements with syntax and examples.\n",
        "-  \n",
        "Conditional statements allow programs to make decisions, executing different blocks of code based on whether a specific condition is true or false. They are fundamental for controlling the flow of a program, enabling it to respond to varying situations. The basic structure is an \"if...then\" statement, where the condition (hypothesis) determines the action or outcome (conclusion).\n",
        "General Structure (Syntax)\n",
        "The most common form of a conditional statement follows the pattern:\n",
        "If condition then action/outcome.\n",
        "Condition (Hypothesis):\n",
        "A statement that can be evaluated as either true or false."
      ],
      "metadata": {
        "id": "uI7Q8uDBTHa4"
      }
    },
    {
      "cell_type": "markdown",
      "source": [
        "Q2. Write a program that grades students based on their marks^\n",
        "8 If greater than 90 then A GradE\n",
        "8 If between 70 and 90 then a B gradE\n",
        "8 If between 50 and 70 then a C gradE\n",
        "8 Below 50 then an F grade"
      ],
      "metadata": {
        "id": "AE2cC-7CT71d"
      }
    },
    {
      "cell_type": "code",
      "source": [
        "public class StudentGrader {\n",
        "    public static void main(String[] args) {\n",
        "        Scanner scanner = new Scanner(System.in);\n",
        "\n",
        "        System.out.print(\"Enter student's marks: \");\n",
        "        int marks = scanner.nextInt();\n",
        "\n",
        "        char grade;\n",
        "\n",
        "        if (marks > 90) {\n",
        "            grade = 'A';\n",
        "        } else if (marks >= 70 && marks <= 90) {\n",
        "            grade = 'B';\n",
        "        } else if (marks >= 50 && marks <= 70) {\n",
        "            grade = 'C';\n",
        "        } else {\n",
        "            grade = 'F';\n",
        "        }\n",
        "\n",
        "        System.out.println(\"The student's grade is: \" + grade);\n",
        "\n",
        "        scanner.close();\n",
        "    }\n",
        "}"
      ],
      "metadata": {
        "id": "WMzLh5KyP2bi"
      },
      "execution_count": null,
      "outputs": []
    },
    {
      "cell_type": "markdown",
      "source": [
        "Q3. What are loops, and what do we need them? Explain different types of loops with their syntax and examples.\n",
        "-  LOOPS:- Loops in programming repeat a block of code multiple times, automating repetitive tasks and improving efficiency.\n",
        "Why we Need Loops:-\n",
        "Code Reusability:-Loops allow you to write a block of code once and have the program execute it multiple times, rather than copying and pasting the same instructions.\n",
        "Automation:\n",
        "They automate repetitive tasks, making programs more efficient and reducing the potential for human error.\n",
        "Data Iteration:\n",
        "Loops are crucial for processing collections of data, such as arrays and lists, by executing operations on each element.\n",
        "Flexibility:\n",
        "Loops provide flexibility to control program flow based on runtime conditions or specific requirements.\n",
        "Types of Loops:-for loop:\n",
        "Purpose: Used when you know in advance the number of times you want to repeat a block of code.\n",
        "Syntax (General):\n",
        "for (initialization; condition; increment/decrement) {\n",
        "    // Code block to be executed\n",
        "}\n",
        "Example (Python): To print numbers 1 to 5\n",
        "python\n",
        "for i in range(1, 6):\n",
        "    print(i)\n",
        "Explanation: The loop initializes i to 1, continues as long as i is less than 6, and increments i by 1 after each iteration.\n",
        "while loop:\n",
        "Purpose: Executes a block of code as long as a specified condition remains true.\n",
        "Syntax (General):\n",
        "while (condition) {\n",
        "    // Code block to be executed\n",
        "\n"
      ],
      "metadata": {
        "id": "aTOUBGn0QD2Y"
      }
    },
    {
      "cell_type": "markdown",
      "source": [
        "Q4. Generate numbers between any 2 given numbers.\n",
        "\n",
        "Ex\n",
        "8 const num1 = 10\n",
        "8 const num2 = 25;\n",
        "\n",
        "Output: 11, 12, 13, …., 25"
      ],
      "metadata": {
        "id": "_JTpUlrYTWym"
      }
    },
    {
      "cell_type": "code",
      "source": [
        "const num1 = 10;\n",
        "const num2 = 25;\n",
        "\n",
        "for (let i = num1; i < = num2; i++) {\n",
        "  console.log(i);\n",
        "}\n",
        "\n"
      ],
      "metadata": {
        "id": "-OuHoED8Td4U"
      },
      "execution_count": null,
      "outputs": []
    },
    {
      "cell_type": "markdown",
      "source": [
        "Q5. Use the while loop to print numbers from 1 to 25 in ascending and descending order.\n",
        " -  Ascending Order(1-25):"
      ],
      "metadata": {
        "id": "XvGx84yFUYkK"
      }
    },
    {
      "cell_type": "code",
      "source": [
        "let i = 1;\n",
        "\n",
        "while (i <= 25) {\n",
        "  console.log(i);\n",
        "  i++;\n",
        "}"
      ],
      "metadata": {
        "id": "_NqbJNpYVClN"
      },
      "execution_count": null,
      "outputs": []
    },
    {
      "cell_type": "markdown",
      "source": [
        "- Descending Order(25-1):"
      ],
      "metadata": {
        "id": "8wEQ1q3fVLMh"
      }
    },
    {
      "cell_type": "code",
      "source": [
        "let j = 25;\n",
        "\n",
        "while (j >= 1) {\n",
        "  console.log(j);\n",
        "  j--;\n",
        "}"
      ],
      "metadata": {
        "id": "Te370ecuVUrQ"
      },
      "execution_count": null,
      "outputs": []
    }
  ]
}